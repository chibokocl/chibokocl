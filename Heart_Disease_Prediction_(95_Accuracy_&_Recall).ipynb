{
  "metadata": {
    "kernelspec": {
      "language": "python",
      "display_name": "Python 3",
      "name": "python3"
    },
    "language_info": {
      "pygments_lexer": "ipython3",
      "nbconvert_exporter": "python",
      "version": "3.6.4",
      "file_extension": ".py",
      "codemirror_mode": {
        "name": "ipython",
        "version": 3
      },
      "name": "python",
      "mimetype": "text/x-python"
    },
    "colab": {
      "name": "Heart Disease Prediction (95% Accuracy & Recall)",
      "provenance": [],
      "include_colab_link": true
    }
  },
  "nbformat_minor": 0,
  "nbformat": 4,
  "cells": [
    {
      "cell_type": "markdown",
      "metadata": {
        "id": "view-in-github",
        "colab_type": "text"
      },
      "source": [
        "<a href=\"https://colab.research.google.com/github/chibokocl/chibokocl/blob/main/Heart_Disease_Prediction_(95_Accuracy_%26_Recall).ipynb\" target=\"_parent\"><img src=\"https://colab.research.google.com/assets/colab-badge.svg\" alt=\"Open In Colab\"/></a>"
      ]
    },
    {
      "source": [
        "\n",
        "# IMPORTANT: RUN THIS CELL IN ORDER TO IMPORT YOUR KAGGLE DATA SOURCES\n",
        "# TO THE CORRECT LOCATION (/kaggle/input) IN YOUR NOTEBOOK,\n",
        "# THEN FEEL FREE TO DELETE THIS CELL.\n",
        "# NOTE: THIS NOTEBOOK ENVIRONMENT DIFFERS FROM KAGGLE'S PYTHON\n",
        "# ENVIRONMENT SO THERE MAY BE MISSING LIBRARIES USED BY YOUR\n",
        "# NOTEBOOK.\n",
        "\n",
        "import os\n",
        "import sys\n",
        "from tempfile import NamedTemporaryFile\n",
        "from urllib.request import urlopen\n",
        "from urllib.parse import unquote, urlparse\n",
        "from urllib.error import HTTPError\n",
        "from zipfile import ZipFile\n",
        "import tarfile\n",
        "import shutil\n",
        "\n",
        "CHUNK_SIZE = 40960\n",
        "DATA_SOURCE_MAPPING = 'heart-failure-prediction:https%3A%2F%2Fstorage.googleapis.com%2Fkaggle-data-sets%2F1582403%2F2603715%2Fbundle%2Farchive.zip%3FX-Goog-Algorithm%3DGOOG4-RSA-SHA256%26X-Goog-Credential%3Dgcp-kaggle-com%2540kaggle-161607.iam.gserviceaccount.com%252F20240521%252Fauto%252Fstorage%252Fgoog4_request%26X-Goog-Date%3D20240521T040025Z%26X-Goog-Expires%3D259200%26X-Goog-SignedHeaders%3Dhost%26X-Goog-Signature%3D105583285badff6ad4993fd7387c9e535da46f8a15016dbedc4a34abed45612945a72ea78d5389b984d917df6b36e5b9da76e29d56ef4dd817421bb28906ed68b4ed5a224c607948c343d3c285b3ad0579c42e9b671218d776bbece575b8f9ec3c8b799d71e75b9465061b10694b48b2967aa7e2700524bccd0837e5c1633aa0357e5ae0e1884d4e3b0f4451b2f44c3dfb98911fc76c96e0cf8356ca89d32006ddd93b485357309c12347bb89fd0dce312bfbcd0977de06214bf83a1d85fcde795929f40e15f59b3353275bc58293be22439d66e512f99f7cdbc336c87e901cd8c2e13c950c14e706d3fc4630d89f6424249eaeb5b70ebad382e30569204cc49'\n",
        "\n",
        "KAGGLE_INPUT_PATH='/kaggle/input'\n",
        "KAGGLE_WORKING_PATH='/kaggle/working'\n",
        "KAGGLE_SYMLINK='kaggle'\n",
        "\n",
        "!umount /kaggle/input/ 2> /dev/null\n",
        "shutil.rmtree('/kaggle/input', ignore_errors=True)\n",
        "os.makedirs(KAGGLE_INPUT_PATH, 0o777, exist_ok=True)\n",
        "os.makedirs(KAGGLE_WORKING_PATH, 0o777, exist_ok=True)\n",
        "\n",
        "try:\n",
        "  os.symlink(KAGGLE_INPUT_PATH, os.path.join(\"..\", 'input'), target_is_directory=True)\n",
        "except FileExistsError:\n",
        "  pass\n",
        "try:\n",
        "  os.symlink(KAGGLE_WORKING_PATH, os.path.join(\"..\", 'working'), target_is_directory=True)\n",
        "except FileExistsError:\n",
        "  pass\n",
        "\n",
        "for data_source_mapping in DATA_SOURCE_MAPPING.split(','):\n",
        "    directory, download_url_encoded = data_source_mapping.split(':')\n",
        "    download_url = unquote(download_url_encoded)\n",
        "    filename = urlparse(download_url).path\n",
        "    destination_path = os.path.join(KAGGLE_INPUT_PATH, directory)\n",
        "    try:\n",
        "        with urlopen(download_url) as fileres, NamedTemporaryFile() as tfile:\n",
        "            total_length = fileres.headers['content-length']\n",
        "            print(f'Downloading {directory}, {total_length} bytes compressed')\n",
        "            dl = 0\n",
        "            data = fileres.read(CHUNK_SIZE)\n",
        "            while len(data) > 0:\n",
        "                dl += len(data)\n",
        "                tfile.write(data)\n",
        "                done = int(50 * dl / int(total_length))\n",
        "                sys.stdout.write(f\"\\r[{'=' * done}{' ' * (50-done)}] {dl} bytes downloaded\")\n",
        "                sys.stdout.flush()\n",
        "                data = fileres.read(CHUNK_SIZE)\n",
        "            if filename.endswith('.zip'):\n",
        "              with ZipFile(tfile) as zfile:\n",
        "                zfile.extractall(destination_path)\n",
        "            else:\n",
        "              with tarfile.open(tfile.name) as tarfile:\n",
        "                tarfile.extractall(destination_path)\n",
        "            print(f'\\nDownloaded and uncompressed: {directory}')\n",
        "    except HTTPError as e:\n",
        "        print(f'Failed to load (likely expired) {download_url} to path {destination_path}')\n",
        "        continue\n",
        "    except OSError as e:\n",
        "        print(f'Failed to load {download_url} to path {destination_path}')\n",
        "        continue\n",
        "\n",
        "print('Data source import complete.')\n"
      ],
      "metadata": {
        "id": "MNYWWJ9NTskm"
      },
      "cell_type": "code",
      "outputs": [],
      "execution_count": null
    },
    {
      "cell_type": "code",
      "source": [
        "import pandas as pd\n",
        "from datetime import datetime\n",
        "import numpy as np\n",
        "from sklearn.metrics import plot_confusion_matrix\n",
        "import matplotlib.pyplot as plt\n",
        "from sklearn.preprocessing import StandardScaler,OneHotEncoder\n",
        "from sklearn.preprocessing import MinMaxScaler\n",
        "from sklearn.ensemble import RandomForestRegressor\n",
        "from numpy import loadtxt\n",
        "from xgboost import XGBClassifier\n",
        "from sklearn.neighbors import KNeighborsClassifier\n",
        "from sklearn.linear_model import LogisticRegression\n",
        "from tensorflow import keras\n",
        "from sklearn.metrics import mean_squared_error, r2_score\n",
        "from sklearn.metrics import classification_report, recall_score,accuracy_score\n",
        "from keras.models import Sequential\n",
        "from keras import Input\n",
        "from sklearn.metrics import confusion_matrix\n",
        "import seaborn as sns\n",
        "import tensorflow as tf\n",
        "from keras.utils.vis_utils import plot_model\n",
        "from keras.layers import Dense, SimpleRNN\n",
        "from sklearn.preprocessing import LabelEncoder\n",
        "from tensorflow.keras.layers import LSTM\n",
        "from sklearn.metrics import roc_curve,auc,roc_auc_score"
      ],
      "metadata": {
        "id": "EeD3iMVipDFo",
        "execution": {
          "iopub.status.busy": "2022-05-30T15:49:05.219597Z",
          "iopub.execute_input": "2022-05-30T15:49:05.22044Z",
          "iopub.status.idle": "2022-05-30T15:49:13.648153Z",
          "shell.execute_reply.started": "2022-05-30T15:49:05.220333Z",
          "shell.execute_reply": "2022-05-30T15:49:13.64703Z"
        },
        "trusted": true
      },
      "execution_count": null,
      "outputs": []
    },
    {
      "cell_type": "code",
      "source": [
        "data=pd.read_csv('../input/heart-failure-prediction/heart.csv')"
      ],
      "metadata": {
        "id": "bMYMWmQGpDFo",
        "execution": {
          "iopub.status.busy": "2022-05-30T15:49:13.649519Z",
          "iopub.execute_input": "2022-05-30T15:49:13.650076Z",
          "iopub.status.idle": "2022-05-30T15:49:13.670647Z",
          "shell.execute_reply.started": "2022-05-30T15:49:13.650048Z",
          "shell.execute_reply": "2022-05-30T15:49:13.669886Z"
        },
        "trusted": true
      },
      "execution_count": null,
      "outputs": []
    },
    {
      "cell_type": "code",
      "source": [
        "data.head()"
      ],
      "metadata": {
        "id": "ra7Y18jbpDFp",
        "execution": {
          "iopub.status.busy": "2022-05-30T15:49:13.671893Z",
          "iopub.execute_input": "2022-05-30T15:49:13.672544Z",
          "iopub.status.idle": "2022-05-30T15:49:13.697503Z",
          "shell.execute_reply.started": "2022-05-30T15:49:13.67251Z",
          "shell.execute_reply": "2022-05-30T15:49:13.696886Z"
        },
        "trusted": true
      },
      "execution_count": null,
      "outputs": []
    },
    {
      "cell_type": "markdown",
      "source": [
        "## EDA or Data Preprocessing"
      ],
      "metadata": {
        "id": "i4BV_D5NTsku"
      }
    },
    {
      "cell_type": "code",
      "source": [
        "data.isnull().sum()"
      ],
      "metadata": {
        "id": "tqkUd6frpDFp",
        "execution": {
          "iopub.status.busy": "2022-05-30T15:53:31.41405Z",
          "iopub.execute_input": "2022-05-30T15:53:31.414703Z",
          "iopub.status.idle": "2022-05-30T15:53:31.424754Z",
          "shell.execute_reply.started": "2022-05-30T15:53:31.414654Z",
          "shell.execute_reply": "2022-05-30T15:53:31.423819Z"
        },
        "trusted": true
      },
      "execution_count": null,
      "outputs": []
    },
    {
      "cell_type": "code",
      "source": [
        "lbl=LabelEncoder()\n",
        "categorical=['Sex','ChestPainType','RestingECG','ExerciseAngina','ST_Slope']\n",
        "for i in categorical:\n",
        "  data[i]=lbl.fit_transform(data[i])"
      ],
      "metadata": {
        "id": "baeDqr5mX39e",
        "execution": {
          "iopub.status.busy": "2022-05-30T15:53:32.722074Z",
          "iopub.execute_input": "2022-05-30T15:53:32.723005Z",
          "iopub.status.idle": "2022-05-30T15:53:32.733725Z",
          "shell.execute_reply.started": "2022-05-30T15:53:32.722966Z",
          "shell.execute_reply": "2022-05-30T15:53:32.732439Z"
        },
        "trusted": true
      },
      "execution_count": null,
      "outputs": []
    },
    {
      "cell_type": "code",
      "source": [
        "data"
      ],
      "metadata": {
        "id": "4tej5IaJpDFt",
        "execution": {
          "iopub.status.busy": "2022-05-30T15:53:33.607304Z",
          "iopub.execute_input": "2022-05-30T15:53:33.607716Z",
          "iopub.status.idle": "2022-05-30T15:53:33.62991Z",
          "shell.execute_reply.started": "2022-05-30T15:53:33.607681Z",
          "shell.execute_reply": "2022-05-30T15:53:33.628878Z"
        },
        "trusted": true
      },
      "execution_count": null,
      "outputs": []
    },
    {
      "cell_type": "code",
      "source": [
        "y=data['HeartDisease']\n",
        "X=data.drop('HeartDisease',axis=1)\n"
      ],
      "metadata": {
        "id": "KCRxrwqqpDFu",
        "execution": {
          "iopub.status.busy": "2022-05-30T15:53:34.893795Z",
          "iopub.execute_input": "2022-05-30T15:53:34.894149Z",
          "iopub.status.idle": "2022-05-30T15:53:34.90131Z",
          "shell.execute_reply.started": "2022-05-30T15:53:34.894122Z",
          "shell.execute_reply": "2022-05-30T15:53:34.900649Z"
        },
        "trusted": true
      },
      "execution_count": null,
      "outputs": []
    },
    {
      "cell_type": "code",
      "source": [
        "from sklearn.model_selection import train_test_split\n",
        "X_train, X_test, y_train, y_test = train_test_split(X, y, test_size=0.3, random_state=0)"
      ],
      "metadata": {
        "id": "w2oCINy3pDFu",
        "execution": {
          "iopub.status.busy": "2022-05-30T15:53:36.204306Z",
          "iopub.execute_input": "2022-05-30T15:53:36.204715Z",
          "iopub.status.idle": "2022-05-30T15:53:36.211525Z",
          "shell.execute_reply.started": "2022-05-30T15:53:36.20468Z",
          "shell.execute_reply": "2022-05-30T15:53:36.210745Z"
        },
        "trusted": true
      },
      "execution_count": null,
      "outputs": []
    },
    {
      "cell_type": "code",
      "source": [
        "scaler = MinMaxScaler()\n",
        "X_train=scaler.fit_transform(X_train)\n",
        "X_test=scaler.fit_transform(X_test)\n"
      ],
      "metadata": {
        "id": "NSnYL6SdFa1r",
        "execution": {
          "iopub.status.busy": "2022-05-30T15:53:41.806379Z",
          "iopub.execute_input": "2022-05-30T15:53:41.807011Z",
          "iopub.status.idle": "2022-05-30T15:53:41.819643Z",
          "shell.execute_reply.started": "2022-05-30T15:53:41.806958Z",
          "shell.execute_reply": "2022-05-30T15:53:41.81874Z"
        },
        "trusted": true
      },
      "execution_count": null,
      "outputs": []
    },
    {
      "cell_type": "markdown",
      "source": [
        "## The Gaussian Naive Bytes Classifier"
      ],
      "metadata": {
        "id": "gzutmpUspDFu"
      }
    },
    {
      "cell_type": "code",
      "source": [
        "from sklearn.naive_bayes import GaussianNB\n",
        "gnb = GaussianNB()\n",
        "gnb.fit(X_train,y_train)\n",
        "y_pred=gnb.predict(X_test)\n",
        "gnb.score(X_test,y_test)\n",
        "plot_confusion_matrix(gnb, X_test, y_test)\n",
        "plt.show()"
      ],
      "metadata": {
        "id": "7BE2BDu1pDFw",
        "execution": {
          "iopub.status.busy": "2022-05-30T15:53:50.521273Z",
          "iopub.execute_input": "2022-05-30T15:53:50.522297Z",
          "iopub.status.idle": "2022-05-30T15:53:50.768166Z",
          "shell.execute_reply.started": "2022-05-30T15:53:50.52226Z",
          "shell.execute_reply": "2022-05-30T15:53:50.767286Z"
        },
        "trusted": true
      },
      "execution_count": null,
      "outputs": []
    },
    {
      "cell_type": "code",
      "source": [
        "print(\"The accuracy for Naive Bytes= \"+str(accuracy_score(y_test,y_pred)))\n",
        "print(\"Recall: \"+str(recall_score(y_test, y_pred)))"
      ],
      "metadata": {
        "id": "IihPfVe3pDFw",
        "execution": {
          "iopub.status.busy": "2022-05-30T15:53:52.851061Z",
          "iopub.execute_input": "2022-05-30T15:53:52.851457Z",
          "iopub.status.idle": "2022-05-30T15:53:52.86077Z",
          "shell.execute_reply.started": "2022-05-30T15:53:52.851424Z",
          "shell.execute_reply": "2022-05-30T15:53:52.860069Z"
        },
        "trusted": true
      },
      "execution_count": null,
      "outputs": []
    },
    {
      "cell_type": "markdown",
      "source": [
        "## The Logistic Regression"
      ],
      "metadata": {
        "id": "HZWchmpNpDFx"
      }
    },
    {
      "cell_type": "code",
      "source": [
        "logisticRegressionmodel=LogisticRegression()\n",
        "logisticRegressionmodel.fit(X_train,y_train)\n",
        "y_pred=logisticRegressionmodel.predict(X_test)\n",
        "plot_confusion_matrix(logisticRegressionmodel, X_test, y_test)\n",
        "plt.show()"
      ],
      "metadata": {
        "id": "KpbeFxUYpDFx",
        "execution": {
          "iopub.status.busy": "2022-05-30T15:53:59.110582Z",
          "iopub.execute_input": "2022-05-30T15:53:59.111093Z",
          "iopub.status.idle": "2022-05-30T15:53:59.320472Z",
          "shell.execute_reply.started": "2022-05-30T15:53:59.111064Z",
          "shell.execute_reply": "2022-05-30T15:53:59.319497Z"
        },
        "trusted": true
      },
      "execution_count": null,
      "outputs": []
    },
    {
      "cell_type": "code",
      "source": [
        "print(\"The accuracy for Logsitic Regresion= \"+str(accuracy_score(y_test,y_pred)*100))\n",
        "print(\"Recall: \"+str(recall_score(y_test, y_pred)*100))"
      ],
      "metadata": {
        "id": "OePdtDi9pDFx",
        "execution": {
          "iopub.status.busy": "2022-05-30T15:54:00.521658Z",
          "iopub.execute_input": "2022-05-30T15:54:00.522448Z",
          "iopub.status.idle": "2022-05-30T15:54:00.530142Z",
          "shell.execute_reply.started": "2022-05-30T15:54:00.522407Z",
          "shell.execute_reply": "2022-05-30T15:54:00.529145Z"
        },
        "trusted": true
      },
      "execution_count": null,
      "outputs": []
    },
    {
      "cell_type": "markdown",
      "source": [
        "## KNN algorithm"
      ],
      "metadata": {
        "id": "Yp5oVN0UpDFy"
      }
    },
    {
      "cell_type": "code",
      "source": [
        "score=[]\n",
        "for i in range(1,50):\n",
        "    knnalgo=KNeighborsClassifier(n_neighbors=i)\n",
        "    knnalgo.fit(X_train,y_train)\n",
        "    y_pred=knnalgo.predict(X_test)\n",
        "    temp=mean_squared_error(y_test,y_pred)\n",
        "    score.append(temp)\n",
        "\n",
        "knnalgo=KNeighborsClassifier(n_neighbors=26)\n",
        "knnalgo.fit(X_train, y_train)\n",
        "y_pred = knnalgo.predict(X_test)\n",
        "temp=mean_squared_error(y_test, y_pred)\n",
        "plot_confusion_matrix(knnalgo, X_test, y_test)\n",
        "plt.show()"
      ],
      "metadata": {
        "id": "LEpBWNn2pDFy",
        "execution": {
          "iopub.status.busy": "2022-05-30T15:54:03.57445Z",
          "iopub.execute_input": "2022-05-30T15:54:03.575633Z",
          "iopub.status.idle": "2022-05-30T15:54:04.452761Z",
          "shell.execute_reply.started": "2022-05-30T15:54:03.575561Z",
          "shell.execute_reply": "2022-05-30T15:54:04.451641Z"
        },
        "trusted": true
      },
      "execution_count": null,
      "outputs": []
    },
    {
      "cell_type": "code",
      "source": [
        "print(\"The accuracy for Naive Bytes= \"+str(accuracy_score(y_test,y_pred)*100))\n",
        "print(\"Recall: \"+str(recall_score(y_test, y_pred)*100))"
      ],
      "metadata": {
        "id": "sXrxEDrypDFy",
        "execution": {
          "iopub.status.busy": "2022-05-30T15:54:05.724395Z",
          "iopub.execute_input": "2022-05-30T15:54:05.725073Z",
          "iopub.status.idle": "2022-05-30T15:54:05.731632Z",
          "shell.execute_reply.started": "2022-05-30T15:54:05.725032Z",
          "shell.execute_reply": "2022-05-30T15:54:05.730867Z"
        },
        "trusted": true
      },
      "execution_count": null,
      "outputs": []
    },
    {
      "cell_type": "markdown",
      "source": [
        "## RandomForestRegressor"
      ],
      "metadata": {
        "id": "e9iePf6-pDFy"
      }
    },
    {
      "cell_type": "code",
      "source": [
        "regressor = RandomForestRegressor(n_estimators = 75,max_depth=4)\n",
        "regressor.fit(X_train,y_train)\n",
        "y_pred=regressor.predict(X_test)\n",
        "y_pred=(y_pred>0.5)\n",
        "\n",
        "y_test=list(y_test)\n",
        "y_pred=list(y_pred)\n",
        "\n",
        "\n",
        "pred_train=regressor.predict(X_train)\n",
        "pred_train=(pred_train>0.5)\n",
        "\n",
        "print(\"The accuracy for Random Forest Regressor= \"+str(accuracy_score(y_train,pred_train)*100))\n",
        "print(\"Recall: \"+str(recall_score(y_train, pred_train)*100))\n",
        "\n",
        "print(\"The Test accuracy for Random Forest Regressor= \"+str(accuracy_score(y_test,y_pred)*100))\n",
        "print(\"Test Recall: \"+str(recall_score(y_test, y_pred)*100))"
      ],
      "metadata": {
        "id": "CFA1mpSzpDFy",
        "execution": {
          "iopub.status.busy": "2022-05-30T15:54:22.440129Z",
          "iopub.execute_input": "2022-05-30T15:54:22.440786Z",
          "iopub.status.idle": "2022-05-30T15:54:22.590039Z",
          "shell.execute_reply.started": "2022-05-30T15:54:22.440741Z",
          "shell.execute_reply": "2022-05-30T15:54:22.588891Z"
        },
        "trusted": true
      },
      "execution_count": null,
      "outputs": []
    },
    {
      "cell_type": "code",
      "source": [
        "conf_train=confusion_matrix(y_train,pred_train)\n",
        "print(\"Accuracy: \"+str(accuracy_score(y_train,pred_train)*100))\n",
        "print(\"Recall: \"+str(recall_score(y_train, pred_train)*100))\n",
        "ax = sns.heatmap(conf_train/np.sum(conf_train), annot=True,\n",
        "            fmt='.2%', cmap='Blues')\n",
        "\n",
        "ax.set_title('Train Data');\n",
        "ax.set_xlabel('\\nPredicted Values')\n",
        "ax.set_ylabel('Actual Values ');\n",
        "\n",
        "ax.xaxis.set_ticklabels(['False','True'])\n",
        "ax.yaxis.set_ticklabels(['False','True'])\n",
        "\n",
        "plt.show()"
      ],
      "metadata": {
        "id": "3sgooawerxP_",
        "execution": {
          "iopub.status.busy": "2022-05-30T15:54:28.87239Z",
          "iopub.execute_input": "2022-05-30T15:54:28.872805Z",
          "iopub.status.idle": "2022-05-30T15:54:29.107551Z",
          "shell.execute_reply.started": "2022-05-30T15:54:28.87277Z",
          "shell.execute_reply": "2022-05-30T15:54:29.106662Z"
        },
        "trusted": true
      },
      "execution_count": null,
      "outputs": []
    },
    {
      "cell_type": "code",
      "source": [
        "conf_test=confusion_matrix(y_test,y_pred)\n",
        "print(\"Accuracy: \"+str(accuracy_score(y_test,y_pred)*100))\n",
        "print(\"Recall: \"+str(recall_score(y_test, y_pred)*100))\n",
        "ax = sns.heatmap(conf_test/np.sum(conf_test), annot=True,\n",
        "            fmt='.2%', cmap='Blues')\n",
        "\n",
        "ax.set_title('Test Data\\n\\n');\n",
        "ax.set_xlabel('\\nPredicted Values')\n",
        "ax.set_ylabel('Actual Values ');\n",
        "\n",
        "## Ticket labels - List must be in alphabetical order\n",
        "ax.xaxis.set_ticklabels(['False','True'])\n",
        "ax.yaxis.set_ticklabels(['False','True'])\n",
        "\n",
        "## Display the visualization of the Confusion Matrix.\n",
        "plt.show()"
      ],
      "metadata": {
        "id": "c0dsmp3dr-ot",
        "execution": {
          "iopub.status.busy": "2022-05-30T15:54:36.377145Z",
          "iopub.execute_input": "2022-05-30T15:54:36.377519Z",
          "iopub.status.idle": "2022-05-30T15:54:36.613336Z",
          "shell.execute_reply.started": "2022-05-30T15:54:36.377488Z",
          "shell.execute_reply": "2022-05-30T15:54:36.612356Z"
        },
        "trusted": true
      },
      "execution_count": null,
      "outputs": []
    },
    {
      "cell_type": "code",
      "source": [
        "false_positive_rate1, true_positive_rate1, threshold1 = roc_curve(y_test, y_pred)\n",
        "auc=roc_auc_score(y_test,y_pred)\n",
        "print(auc)\n",
        "plt.subplots(1, figsize=(10,10))\n",
        "plt.title('ROC Curve for Heart Disease Predictor')\n",
        "plt.plot(false_positive_rate1, true_positive_rate1)\n",
        "plt.plot([0, 1], ls=\"--\")\n",
        "plt.plot([0, 0], [1, 0] , c=\".7\"), plt.plot([1, 1] , c=\".7\")\n",
        "plt.ylabel('True Positive Rate')\n",
        "plt.xlabel('False Positive Rate')\n",
        "plt.show()"
      ],
      "metadata": {
        "id": "v8briSdTNBKU",
        "execution": {
          "iopub.status.busy": "2022-05-30T15:54:38.308789Z",
          "iopub.execute_input": "2022-05-30T15:54:38.309167Z",
          "iopub.status.idle": "2022-05-30T15:54:38.514175Z",
          "shell.execute_reply.started": "2022-05-30T15:54:38.309136Z",
          "shell.execute_reply": "2022-05-30T15:54:38.513435Z"
        },
        "trusted": true
      },
      "execution_count": null,
      "outputs": []
    },
    {
      "cell_type": "markdown",
      "source": [
        "## ANN Model"
      ],
      "metadata": {
        "id": "sLDMMvN1gRoM"
      }
    },
    {
      "cell_type": "code",
      "source": [
        "annmodel = Sequential([Dense(units=4,input_shape=(11,),activation='relu'),\n",
        "                    Dense(units=6,activation='relu'),\n",
        "                    keras.layers.Dropout(0.3),\n",
        "                    Dense(units=8,activation='relu'),\n",
        "                    keras.layers.Dropout(0.3),\n",
        "                    Dense(units=1,activation='sigmoid')])"
      ],
      "metadata": {
        "id": "muBiQ6YmupMk",
        "execution": {
          "iopub.status.busy": "2022-05-30T15:54:40.326355Z",
          "iopub.execute_input": "2022-05-30T15:54:40.326762Z",
          "iopub.status.idle": "2022-05-30T15:54:40.461649Z",
          "shell.execute_reply.started": "2022-05-30T15:54:40.326727Z",
          "shell.execute_reply": "2022-05-30T15:54:40.460672Z"
        },
        "trusted": true
      },
      "execution_count": null,
      "outputs": []
    },
    {
      "cell_type": "code",
      "source": [
        "annmodel.compile(optimizer='adam',loss='binary_crossentropy',metrics=['accuracy'])"
      ],
      "metadata": {
        "id": "qwSVsOHHhStP",
        "execution": {
          "iopub.status.busy": "2022-05-30T15:54:41.148153Z",
          "iopub.execute_input": "2022-05-30T15:54:41.148868Z",
          "iopub.status.idle": "2022-05-30T15:54:41.163306Z",
          "shell.execute_reply.started": "2022-05-30T15:54:41.148833Z",
          "shell.execute_reply": "2022-05-30T15:54:41.16249Z"
        },
        "trusted": true
      },
      "execution_count": null,
      "outputs": []
    },
    {
      "cell_type": "code",
      "source": [
        "annmodel.fit(X_train, y_train,\n",
        "          batch_size=1,\n",
        "          epochs=100,\n",
        "          verbose='auto')"
      ],
      "metadata": {
        "id": "-0azgkF-hbNl",
        "execution": {
          "iopub.status.busy": "2022-05-30T15:54:53.742787Z",
          "iopub.execute_input": "2022-05-30T15:54:53.743645Z",
          "iopub.status.idle": "2022-05-30T15:57:16.408374Z",
          "shell.execute_reply.started": "2022-05-30T15:54:53.743581Z",
          "shell.execute_reply": "2022-05-30T15:57:16.407396Z"
        },
        "trusted": true
      },
      "execution_count": null,
      "outputs": []
    },
    {
      "cell_type": "code",
      "source": [
        "pred_train = annmodel.predict(X_train)\n",
        "pred_test = annmodel.predict(X_test)\n",
        "pred_train = (pred_train > 0.5)\n",
        "pred_test = (pred_test > 0.5)\n",
        "\n",
        "print(\"\")\n",
        "print('-------------------- Model Summary --------------------')\n",
        "annmodel.summary()\n",
        "print(\"\")\n",
        "print('---------- Evaluation on Training Data ----------')\n",
        "print(\"Accuracy (on train data): \", accuracy_score(y_train, pred_train)*100)\n",
        "print(\"\")\n",
        "print(\"Recall (on train data): \", recall_score(y_train, pred_train)*100)\n",
        "print(\"\")\n",
        "\n",
        "\n",
        "print('---------- Evaluation on Test Data ----------')\n",
        "print(\"Accuracy (on test data):  \", accuracy_score(y_test, pred_test)*100)\n",
        "print(\"\")\n",
        "print(\"Recall (on test data):  \", recall_score(y_test, pred_test)*100)\n",
        "print(\"\")"
      ],
      "metadata": {
        "id": "BknwyH4OhkfH",
        "execution": {
          "iopub.status.busy": "2022-05-30T15:57:16.410028Z",
          "iopub.execute_input": "2022-05-30T15:57:16.410341Z",
          "iopub.status.idle": "2022-05-30T15:57:16.645492Z",
          "shell.execute_reply.started": "2022-05-30T15:57:16.410314Z",
          "shell.execute_reply": "2022-05-30T15:57:16.644817Z"
        },
        "trusted": true
      },
      "execution_count": null,
      "outputs": []
    },
    {
      "cell_type": "code",
      "source": [
        "conf_train=confusion_matrix(y_train,pred_train)\n",
        "print(\"Accuracy: \"+str(accuracy_score(y_train,pred_train)*100))\n",
        "print(\"Recall: \"+str(recall_score(y_train, pred_train)*100))\n",
        "ax = sns.heatmap(conf_train/np.sum(conf_train), annot=True,\n",
        "            fmt='.2%', cmap='Blues')\n",
        "\n",
        "ax.set_title('Train Data');\n",
        "ax.set_xlabel('\\nPredicted Values')\n",
        "ax.set_ylabel('Actual Values ');\n",
        "\n",
        "ax.xaxis.set_ticklabels(['False','True'])\n",
        "ax.yaxis.set_ticklabels(['False','True'])\n",
        "\n",
        "plt.show()"
      ],
      "metadata": {
        "id": "schYYfofpcCx",
        "execution": {
          "iopub.status.busy": "2022-05-30T15:57:21.423048Z",
          "iopub.execute_input": "2022-05-30T15:57:21.42367Z",
          "iopub.status.idle": "2022-05-30T15:57:21.598296Z",
          "shell.execute_reply.started": "2022-05-30T15:57:21.423632Z",
          "shell.execute_reply": "2022-05-30T15:57:21.597274Z"
        },
        "trusted": true
      },
      "execution_count": null,
      "outputs": []
    },
    {
      "cell_type": "code",
      "source": [
        "conf_test=confusion_matrix(y_test,pred_test)\n",
        "print(\"Accuracy: \"+str(accuracy_score(y_test,pred_test)*100))\n",
        "print(\"Recall: \"+str(recall_score(y_test, pred_test)*100))\n",
        "ax = sns.heatmap(conf_test/np.sum(conf_test), annot=True,\n",
        "            fmt='.2%', cmap='Blues')\n",
        "\n",
        "ax.set_title('Test Data\\n\\n');\n",
        "ax.set_xlabel('\\nPredicted Values')\n",
        "ax.set_ylabel('Actual Values ');\n",
        "\n",
        "## Ticket labels - List must be in alphabetical order\n",
        "ax.xaxis.set_ticklabels(['False','True'])\n",
        "ax.yaxis.set_ticklabels(['False','True'])\n",
        "\n",
        "## Display the visualization of the Confusion Matrix.\n",
        "plt.show()"
      ],
      "metadata": {
        "execution": {
          "iopub.status.busy": "2022-05-30T15:57:23.585817Z",
          "iopub.execute_input": "2022-05-30T15:57:23.58644Z",
          "iopub.status.idle": "2022-05-30T15:57:23.771334Z",
          "shell.execute_reply.started": "2022-05-30T15:57:23.586407Z",
          "shell.execute_reply": "2022-05-30T15:57:23.770519Z"
        },
        "trusted": true,
        "id": "XjJOIzLRTslC"
      },
      "execution_count": null,
      "outputs": []
    },
    {
      "cell_type": "code",
      "source": [
        "false_positive_rate1, true_positive_rate1, threshold1 = roc_curve(y_test, pred_test)\n",
        "auc=roc_auc_score(y_test,pred_test)\n",
        "print(auc)\n",
        "plt.subplots(1, figsize=(10,10))\n",
        "plt.title('ROC Curve for Heart Disease Predictor')\n",
        "plt.plot(false_positive_rate1, true_positive_rate1)\n",
        "plt.plot([0, 1], ls=\"--\")\n",
        "plt.plot([0, 0], [1, 0] , c=\".7\"), plt.plot([1, 1] , c=\".7\")\n",
        "plt.ylabel('True Positive Rate')\n",
        "plt.xlabel('False Positive Rate')\n",
        "plt.show()"
      ],
      "metadata": {
        "execution": {
          "iopub.status.busy": "2022-05-30T15:57:27.17697Z",
          "iopub.execute_input": "2022-05-30T15:57:27.177913Z",
          "iopub.status.idle": "2022-05-30T15:57:27.388746Z",
          "shell.execute_reply.started": "2022-05-30T15:57:27.177871Z",
          "shell.execute_reply": "2022-05-30T15:57:27.387744Z"
        },
        "trusted": true,
        "id": "btqjlpa8TslD"
      },
      "execution_count": null,
      "outputs": []
    },
    {
      "cell_type": "markdown",
      "source": [
        "## Conclusion"
      ],
      "metadata": {
        "id": "4ji9sX27TslE"
      }
    },
    {
      "cell_type": "markdown",
      "source": [
        "#### A lot of different ML/ Neural Network models have been showcased.\n",
        "#### Important metrics like Recall and Accuracy are shown."
      ],
      "metadata": {
        "id": "EPkAVZ_3TslE"
      }
    },
    {
      "cell_type": "markdown",
      "source": [
        "## If you liked my work, Please upvote it."
      ],
      "metadata": {
        "id": "iGeGRiXsTslF"
      }
    }
  ]
}